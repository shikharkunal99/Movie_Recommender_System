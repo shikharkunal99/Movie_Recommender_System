{
 "cells": [
  {
   "cell_type": "code",
   "execution_count": 1,
   "metadata": {},
   "outputs": [
    {
     "name": "stderr",
     "output_type": "stream",
     "text": [
      "WARNING (theano.sandbox.cuda): The cuda backend is deprecated and will be removed in the next release (v0.10).  Please switch to the gpuarray backend. You can get more information about how to switch at this URL:\n",
      " https://github.com/Theano/Theano/wiki/Converting-to-the-new-gpu-back-end%28gpuarray%29\n",
      "\n",
      "Using gpu device 0: GeForce GT 820M (CNMeM is enabled with initial size: 80.0% of memory, cuDNN not available)\n"
     ]
    }
   ],
   "source": [
    "from theano.sandbox import cuda"
   ]
  },
  {
   "cell_type": "code",
   "execution_count": 2,
   "metadata": {},
   "outputs": [
    {
     "name": "stderr",
     "output_type": "stream",
     "text": [
      "Using Theano backend.\n",
      "C:\\Users\\Shikhar\\Anaconda2\\lib\\site-packages\\h5py\\__init__.py:36: FutureWarning: Conversion of the second argument of issubdtype from `float` to `np.floating` is deprecated. In future, it will be treated as `np.float64 == np.dtype(float).type`.\n",
      "  from ._conv import register_converters as _register_converters\n"
     ]
    }
   ],
   "source": [
    "%matplotlib inline\n",
    "import utils; reload(utils)\n",
    "from utils import *\n",
    "from __future__ import division, print_function"
   ]
  },
  {
   "cell_type": "code",
   "execution_count": 91,
   "metadata": {},
   "outputs": [],
   "source": [
    "#path = \"data/ml-20m/\"\n",
    "path = \"data/ml-1m/\"\n",
    "model_path = path + 'models/'\n",
    "if not os.path.exists(model_path): os.mkdir(model_path)\n",
    "batch_size=64"
   ]
  },
  {
   "cell_type": "code",
   "execution_count": 92,
   "metadata": {},
   "outputs": [
    {
     "data": {
      "text/plain": [
       "1000209"
      ]
     },
     "execution_count": 92,
     "metadata": {},
     "output_type": "execute_result"
    }
   ],
   "source": [
    "ratings = pd.read_csv(path+'ratings.csv')\n",
    "len(ratings)"
   ]
  },
  {
   "cell_type": "code",
   "execution_count": 93,
   "metadata": {},
   "outputs": [
    {
     "data": {
      "text/plain": [
       "(array([   1,    2,    3, ..., 6038, 6039, 6040], dtype=int64),\n",
       " array([1193,  661,  914, ..., 2845, 3607, 2909], dtype=int64))"
      ]
     },
     "execution_count": 93,
     "metadata": {},
     "output_type": "execute_result"
    }
   ],
   "source": [
    "users = ratings.userId.unique()\n",
    "movies = ratings.movieId.unique()\n",
    "users, movies"
   ]
  },
  {
   "cell_type": "code",
   "execution_count": 94,
   "metadata": {},
   "outputs": [],
   "source": [
    "userid2idx = {o:i for i,o in enumerate(users)}\n",
    "movieid2idx = {o:i for i,o in enumerate(movies)}"
   ]
  },
  {
   "cell_type": "code",
   "execution_count": 95,
   "metadata": {},
   "outputs": [],
   "source": [
    "ratings.movieId = ratings.movieId.apply(lambda x: movieid2idx[x])\n",
    "ratings.userId = ratings.userId.apply(lambda x: userid2idx[x])\n"
   ]
  },
  {
   "cell_type": "code",
   "execution_count": 96,
   "metadata": {},
   "outputs": [
    {
     "data": {
      "text/plain": [
       "(6040, 3706)"
      ]
     },
     "execution_count": 96,
     "metadata": {},
     "output_type": "execute_result"
    }
   ],
   "source": [
    "n_users = ratings.userId.nunique()\n",
    "n_movies = ratings.movieId.nunique()\n",
    "n_users, n_movies"
   ]
  },
  {
   "cell_type": "code",
   "execution_count": 97,
   "metadata": {},
   "outputs": [],
   "source": [
    "n_factors = 50"
   ]
  },
  {
   "cell_type": "code",
   "execution_count": 98,
   "metadata": {},
   "outputs": [],
   "source": [
    "np.random.seed = 42"
   ]
  },
  {
   "cell_type": "code",
   "execution_count": 99,
   "metadata": {},
   "outputs": [
    {
     "name": "stdout",
     "output_type": "stream",
     "text": [
      "[ True  True  True ...  True  True False]\n"
     ]
    }
   ],
   "source": [
    "msk = np.random.rand(len(ratings)) < 0.8\n",
    "print (msk)\n",
    "trn = ratings[msk]\n",
    "val = ratings[~msk]\n"
   ]
  },
  {
   "cell_type": "code",
   "execution_count": 100,
   "metadata": {},
   "outputs": [],
   "source": [
    "def embedding_input(name, n_in, n_out, reg):\n",
    "    inp = Input(shape=(1,), dtype='int64', name=name)\n",
    "    return inp, Embedding(n_in, n_out, input_length=1, W_regularizer=l2(reg))(inp)"
   ]
  },
  {
   "cell_type": "code",
   "execution_count": 101,
   "metadata": {},
   "outputs": [],
   "source": [
    "user_in, u = embedding_input('user_in', n_users, n_factors, 1e-4)\n",
    "movie_in, m = embedding_input('movie_in', n_movies, n_factors, 1e-4)\n"
   ]
  },
  {
   "cell_type": "code",
   "execution_count": 102,
   "metadata": {},
   "outputs": [],
   "source": [
    "def create_bias(inp, n_in):\n",
    "    x = Embedding(n_in, 1, input_length=1)(inp)\n",
    "    return Flatten()(x)"
   ]
  },
  {
   "cell_type": "code",
   "execution_count": 104,
   "metadata": {},
   "outputs": [],
   "source": [
    "ub = create_bias(user_in, n_users)\n",
    "mb = create_bias(movie_in, n_movies)"
   ]
  },
  {
   "cell_type": "code",
   "execution_count": 105,
   "metadata": {},
   "outputs": [],
   "source": [
    "x = merge([u, m], mode='concat')\n",
    "x = Flatten()(x)\n",
    "x = Dropout(0.3)(x)\n",
    "x = Dense(70, activation='relu')(x)\n",
    "x = Dropout(0.75)(x)\n",
    "x = Dense(1)(x)\n",
    "nn = Model([user_in, movie_in], x)\n",
    "nn.compile(Adam(0.001), loss='mse')"
   ]
  },
  {
   "cell_type": "code",
   "execution_count": 106,
   "metadata": {},
   "outputs": [
    {
     "name": "stdout",
     "output_type": "stream",
     "text": [
      "Train on 799864 samples, validate on 200345 samples\n",
      "Epoch 1/10\n",
      "799864/799864 [==============================] - 220s - loss: 1.3056 - val_loss: 0.9331: 1.30\n",
      "Epoch 2/10\n",
      "799864/799864 [==============================] - 216s - loss: 0.9687 - val_loss: 0.9215\n",
      "Epoch 3/10\n",
      "799864/799864 [==============================] - 234s - loss: 0.9633 - val_loss: 0.9181- los\n",
      "Epoch 4/10\n",
      "799864/799864 [==============================] - 233s - loss: 0.9616 - val_loss: 0.9130\n",
      "Epoch 5/10\n",
      "799864/799864 [==============================] - 225s - loss: 0.9598 - val_loss: 0.91010s - lo\n",
      "Epoch 6/10\n",
      "799864/799864 [==============================] - 235s - loss: 0.9573 - val_loss: 0.9071 - ETA: 3 - -\n",
      "Epoch 7/10\n",
      "799864/799864 [==============================] - 236s - loss: 0.9576 - val_loss: 0.9136: 0.957 - ETA: 2s  -\n",
      "Epoch 8/10\n",
      "799864/799864 [==============================] - 229s - loss: 0.9576 - val_loss: 0.9068\n",
      "Epoch 9/10\n",
      "799864/799864 [==============================] - 226s - loss: 0.9564 - val_loss: 0.9093\n",
      "Epoch 10/10\n",
      "799864/799864 [==============================] - 239s - loss: 0.9579 - val_loss: 0.9156\n"
     ]
    }
   ],
   "source": [
    "train_history = nn.fit([trn.userId, trn.movieId], trn.rating, batch_size=64, nb_epoch=10, \n",
    "          validation_data=([val.userId, val.movieId], val.rating))"
   ]
  },
  {
   "cell_type": "code",
   "execution_count": 107,
   "metadata": {},
   "outputs": [
    {
     "data": {
      "image/png": "[encoded data removed]",
      "text/plain": [
       "<matplotlib.figure.Figure at 0x198705c0>"
      ]
     },
     "metadata": {},
     "output_type": "display_data"
    }
   ],
   "source": [
    "loss = train_history.history['loss']\n",
    "val_loss = train_history.history['val_loss']\n",
    "plt.plot(loss)\n",
    "plt.plot(val_loss)\n",
    "plt.legend(['loss', 'val_loss'])\n",
    "plt.xlabel('epoch')\n",
    "plt.ylabel('accuracy')\n",
    "plt.show()"
   ]
  },
  {
   "cell_type": "code",
   "execution_count": 108,
   "metadata": {},
   "outputs": [],
   "source": [
    "x = merge([u, m], mode='concat')\n",
    "x = Flatten()(x)\n",
    "x = Dropout(0.35)(x)\n",
    "x = Dense(500,activation='relu')(x)\n",
    "x = Dropout(0.5)(x)\n",
    "x = Dense(100,activation='relu')(x)\n",
    "x = Dropout(0.5)(x)\n",
    "x = Dense(10,activation='relu')(x)\n",
    "x = Dense(1,activation='relu')(x)\n",
    "nn = Model([user_in, movie_in], x)\n",
    "nn.compile(Adam(0.001), loss='mse')"
   ]
  },
  {
   "cell_type": "code",
   "execution_count": 109,
   "metadata": {},
   "outputs": [
    {
     "name": "stdout",
     "output_type": "stream",
     "text": [
      "Train on 799864 samples, validate on 200345 samples\n",
      "Epoch 1/10\n",
      "799864/799864 [==============================] - 263s - loss: 1.0196 - val_loss: 0.9261\n",
      "Epoch 2/10\n",
      "799864/799864 [==============================] - 256s - loss: 0.9463 - val_loss: 0.9421\n",
      "Epoch 3/10\n",
      "799864/799864 [==============================] - 269s - loss: 0.9452 - val_loss: 0.9220\n",
      "Epoch 4/10\n",
      "799864/799864 [==============================] - 271s - loss: 0.9443 - val_loss: 0.9144\n",
      "Epoch 5/10\n",
      "799864/799864 [==============================] - 270s - loss: 0.9432 - val_loss: 0.9177\n",
      "Epoch 6/10\n",
      "799864/799864 [==============================] - 260s - loss: 0.9442 - val_loss: 0.9149\n",
      "Epoch 7/10\n",
      "799864/799864 [==============================] - 268s - loss: 0.9436 - val_loss: 0.9207\n",
      "Epoch 8/10\n",
      "799864/799864 [==============================] - 266s - loss: 0.9430 - val_loss: 0.9142\n",
      "Epoch 9/10\n",
      "799864/799864 [==============================] - 258s - loss: 0.9448 - val_loss: 0.9162\n",
      "Epoch 10/10\n",
      "799864/799864 [==============================] - 266s - loss: 0.9429 - val_loss: 0.9170\n"
     ]
    }
   ],
   "source": [
    "train_history = nn.fit([trn.userId, trn.movieId], trn.rating, batch_size=64, nb_epoch=10, \n",
    "          validation_data=([val.userId, val.movieId], val.rating))"
   ]
  },
  {
   "cell_type": "code",
   "execution_count": 110,
   "metadata": {},
   "outputs": [
    {
     "data": {
      "image/png": "[encoded data removed]",
      "text/plain": [
       "<matplotlib.figure.Figure at 0x1f530588>"
      ]
     },
     "metadata": {},
     "output_type": "display_data"
    }
   ],
   "source": [
    "loss = train_history.history['loss']\n",
    "val_loss = train_history.history['val_loss']\n",
    "plt.plot(loss)\n",
    "plt.plot(val_loss)\n",
    "plt.legend(['loss', 'val_loss'])\n",
    "plt.xlabel('epoch')\n",
    "plt.ylabel('accuracy')\n",
    "plt.show()"
   ]
  },
  {
   "cell_type": "code",
   "execution_count": 115,
   "metadata": {},
   "outputs": [],
   "source": [
    "x = merge([u, m], mode='concat')\n",
    "x = Flatten()(x)\n",
    "x = Dense(100, activation='relu')(x)\n",
    "x = Dropout(0.5)(x)\n",
    "x = Dense(5,activation='relu')(x)\n",
    "x = Dense(1)(x)\n",
    "nn = Model([user_in, movie_in], x)\n",
    "nn.compile(Adam(0.001), loss='mse')"
   ]
  },
  {
   "cell_type": "code",
   "execution_count": 116,
   "metadata": {},
   "outputs": [
    {
     "name": "stdout",
     "output_type": "stream",
     "text": [
      "Train on 799864 samples, validate on 200345 samples\n",
      "Epoch 1/30\n",
      "799864/799864 [==============================] - 117s - loss: 1.1048 - val_loss: 0.8505: 1.104\n",
      "Epoch 2/30\n",
      "799864/799864 [==============================] - 117s - loss: 0.8543 - val_loss: 0.8403: 0. - E - ETA: 0s - loss: 0.85\n",
      "Epoch 3/30\n",
      "799864/799864 [==============================] - 112s - loss: 0.8412 - val_loss: 0.8329\n",
      "Epoch 4/30\n",
      "799864/799864 [==============================] - 118s - loss: 0.8361 - val_loss: 0.8321: 0.8 - ETA: 4s -  - ETA: 1s - l - ETA: 0s - los\n",
      "Epoch 5/30\n",
      "799864/799864 [==============================] - 118s - loss: 0.8338 - val_loss: 0.8320\n",
      "Epoch 6/30\n",
      "799864/799864 [==============================] - 113s - loss: 0.8324 - val_loss: 0.8310\n",
      "Epoch 7/30\n",
      "799864/799864 [==============================] - 117s - loss: 0.8318 - val_loss: 0.8307s - loss: 0 - ETA: 1s - los - ETA\n",
      "Epoch 8/30\n",
      "799864/799864 [==============================] - 117s - loss: 0.8295 - val_loss: 0.8314\n",
      "Epoch 9/30\n",
      "799864/799864 [==============================] - 116s - loss: 0.8301 - val_loss: 0.8306\n",
      "Epoch 10/30\n",
      "799864/799864 [==============================] - 115s - loss: 0.8287 - val_loss: 0.8300s: 0.\n",
      "Epoch 11/30\n",
      "799864/799864 [==============================] - 117s - loss: 0.8290 - val_loss: 0.8317TA: 1s - loss\n",
      "Epoch 12/30\n",
      "799864/799864 [==============================] - 116s - loss: 0.8281 - val_loss: 0.8290\n",
      "Epoch 13/30\n",
      "799864/799864 [==============================] - 116s - loss: 0.8277 - val_loss: 0.8295\n",
      "Epoch 14/30\n",
      "799864/799864 [==============================] - 15127s - loss: 0.8268 - val_loss: 0.8307\n",
      "Epoch 15/30\n",
      "799864/799864 [==============================] - 75s - loss: 0.8274 - val_loss: 0.8298\n",
      "Epoch 16/30\n",
      "799864/799864 [==============================] - 106s - loss: 0.8265 - val_loss: 0.8293\n",
      "Epoch 17/30\n",
      "799864/799864 [==============================] - 119s - loss: 0.8262 - val_loss: 0.8299\n",
      "Epoch 18/30\n",
      "799864/799864 [==============================] - 128s - loss: 0.8254 - val_loss: 0.8317\n",
      "Epoch 19/30\n",
      "799864/799864 [==============================] - 126s - loss: 0.8263 - val_loss: 0.8317\n",
      "Epoch 20/30\n",
      "799864/799864 [==============================] - 124s - loss: 0.8259 - val_loss: 0.8303\n",
      "Epoch 21/30\n",
      "799864/799864 [==============================] - 117s - loss: 0.8251 - val_loss: 0.8304: \n",
      "Epoch 22/30\n",
      "799864/799864 [==============================] - 117s - loss: 0.8252 - val_loss: 0.8306\n",
      "Epoch 23/30\n",
      "799864/799864 [==============================] - 113s - loss: 0.8250 - val_loss: 0.8292: 0.8 - ETA:  - ETA: 2s - lo - ETA: 2\n",
      "Epoch 24/30\n",
      "799864/799864 [==============================] - 119s - loss: 0.8249 - val_loss: 0.8306 0s - loss\n",
      "Epoch 25/30\n",
      "799864/799864 [==============================] - 131s - loss: 0.8250 - val_loss: 0.8294: 0.824 - ETA: 1\n",
      "Epoch 26/30\n",
      "799864/799864 [==============================] - 135s - loss: 0.8249 - val_loss: 0.8292 los - ETA: 4s - loss: 0.824 - ETA:  \n",
      "Epoch 27/30\n",
      "799864/799864 [==============================] - 138s - loss: 0.8245 - val_loss: 0.8292: 0.82\n",
      "Epoch 28/30\n",
      "799864/799864 [==============================] - 136s - loss: 0.8241 - val_loss: 0.8282\n",
      "Epoch 29/30\n",
      "799864/799864 [==============================] - 132s - loss: 0.8238 - val_loss: 0.8279\n",
      "Epoch 30/30\n",
      "799864/799864 [==============================] - 124s - loss: 0.8228 - val_loss: 0.8295\n"
     ]
    }
   ],
   "source": [
    "train_history = nn.fit([trn.userId, trn.movieId], trn.rating, batch_size=128, nb_epoch=30, \n",
    "          validation_data=([val.userId, val.movieId], val.rating))"
   ]
  },
  {
   "cell_type": "code",
   "execution_count": 120,
   "metadata": {},
   "outputs": [
    {
     "data": {
      "image/png": "[encoded data removed]",
      "text/plain": [
       "<matplotlib.figure.Figure at 0x21f529b0>"
      ]
     },
     "metadata": {},
     "output_type": "display_data"
    }
   ],
   "source": [
    "loss = train_history.history['loss']\n",
    "val_loss = train_history.history['val_loss']\n",
    "plt.plot(loss)\n",
    "plt.plot(val_loss)\n",
    "plt.legend(['loss', 'val_loss'])\n",
    "plt.xlabel('epoch')\n",
    "plt.ylabel('accuracy')\n",
    "plt.show()"
   ]
  },
  {
   "cell_type": "code",
   "execution_count": 121,
   "metadata": {},
   "outputs": [],
   "source": [
    "x = merge([u, m], mode='concat')\n",
    "x = Flatten()(x)\n",
    "x = Dense(100, activation='relu')(x)\n",
    "x = Dropout(0.5)(x)\n",
    "x = Dense(5,activation='relu')(x)\n",
    "x = Dense(1)(x)\n",
    "nn = Model([user_in, movie_in], x)\n",
    "nn.compile(Adam(0.001), loss='mse')"
   ]
  },
  {
   "cell_type": "code",
   "execution_count": 122,
   "metadata": {},
   "outputs": [
    {
     "name": "stdout",
     "output_type": "stream",
     "text": [
      "Train on 799864 samples, validate on 200345 samples\n",
      "Epoch 1/10\n",
      "799864/799864 [==============================] - 191s - loss: 0.9887 - val_loss: 0.8560\n",
      "Epoch 2/10\n",
      "799864/799864 [==============================] - 234s - loss: 0.8655 - val_loss: 0.8510\n",
      "Epoch 3/10\n",
      "799864/799864 [==============================] - 232s - loss: 0.8578 - val_loss: 0.8522\n",
      "Epoch 4/10\n",
      "799864/799864 [==============================] - 224s - loss: 0.8545 - val_loss: 0.8486\n",
      "Epoch 5/10\n",
      "799864/799864 [==============================] - 212s - loss: 0.8532 - val_loss: 0.8518\n",
      "Epoch 6/10\n",
      "799864/799864 [==============================] - 220s - loss: 0.8518 - val_loss: 0.8467\n",
      "Epoch 7/10\n",
      "799864/799864 [==============================] - 220s - loss: 0.8511 - val_loss: 0.8624\n",
      "Epoch 8/10\n",
      "799864/799864 [==============================] - 233s - loss: 0.8507 - val_loss: 0.8461\n",
      "Epoch 9/10\n",
      "799864/799864 [==============================] - 221s - loss: 0.8499 - val_loss: 0.8482\n",
      "Epoch 10/10\n",
      "799864/799864 [==============================] - 226s - loss: 0.8491 - val_loss: 0.8470\n"
     ]
    }
   ],
   "source": [
    "train_history = nn.fit([trn.userId, trn.movieId], trn.rating, batch_size=64, nb_epoch=10, \n",
    "          validation_data=([val.userId, val.movieId], val.rating))"
   ]
  },
  {
   "cell_type": "code",
   "execution_count": 124,
   "metadata": {},
   "outputs": [
    {
     "data": {
      "image/png": "[encoded data removed]",
      "text/plain": [
       "<matplotlib.figure.Figure at 0x2f5da860>"
      ]
     },
     "metadata": {},
     "output_type": "display_data"
    }
   ],
   "source": [
    "loss = train_history.history['loss']\n",
    "val_loss = train_history.history['val_loss']\n",
    "plt.plot(loss)\n",
    "plt.plot(val_loss)\n",
    "plt.legend(['loss', 'val_loss'])\n",
    "plt.xlabel('epoch')\n",
    "plt.ylabel('accuracy')\n",
    "plt.show()"
   ]
  },
  {
   "cell_type": "code",
   "execution_count": null,
   "metadata": {},
   "outputs": [],
   "source": []
  },
  {
   "cell_type": "code",
   "execution_count": null,
   "metadata": {},
   "outputs": [],
   "source": []
  }
 ],
 "metadata": {
  "kernelspec": {
   "display_name": "Python 2",
   "language": "python",
   "name": "python2"
  },
  "language_info": {
   "codemirror_mode": {
    "name": "ipython",
    "version": 2
   },
   "file_extension": ".py",
   "mimetype": "text/x-python",
   "name": "python",
   "nbconvert_exporter": "python",
   "pygments_lexer": "ipython2",
   "version": "2.7.14"
  }
 },
 "nbformat": 4,
 "nbformat_minor": 2
}
